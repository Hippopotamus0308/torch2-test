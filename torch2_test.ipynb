{
  "nbformat": 4,
  "nbformat_minor": 0,
  "metadata": {
    "colab": {
      "provenance": [],
      "authorship_tag": "ABX9TyPA0HMbfcNrUzfxa/rDtw1Z",
      "include_colab_link": true
    },
    "kernelspec": {
      "name": "python3",
      "display_name": "Python 3"
    },
    "language_info": {
      "name": "python"
    }
  },
  "cells": [
    {
      "cell_type": "markdown",
      "metadata": {
        "id": "view-in-github",
        "colab_type": "text"
      },
      "source": [
        "<a href=\"https://colab.research.google.com/github/Hippopotamus0308/torch2-test/blob/feat-basic-test/torch2_test.ipynb\" target=\"_parent\"><img src=\"https://colab.research.google.com/assets/colab-badge.svg\" alt=\"Open In Colab\"/></a>"
      ]
    },
    {
      "cell_type": "code",
      "source": [
        "!pip3 install numpy --pre torch --force-reinstall --index-url https://download.pytorch.org/whl/nightly/cpu"
      ],
      "metadata": {
        "colab": {
          "base_uri": "https://localhost:8080/"
        },
        "id": "Eej_td0SCGlN",
        "outputId": "70a87de3-24a9-4c57-ed39-1f6d175dbc0c"
      },
      "execution_count": null,
      "outputs": [
        {
          "output_type": "stream",
          "name": "stdout",
          "text": [
            "Looking in indexes: https://download.pytorch.org/whl/nightly/cpu, https://us-python.pkg.dev/colab-wheels/public/simple/\n",
            "Collecting numpy\n",
            "  Downloading https://download.pytorch.org/whl/nightly/numpy-1.24.1-cp38-cp38-manylinux_2_17_x86_64.manylinux2014_x86_64.whl (17.3 MB)\n",
            "\u001b[2K     \u001b[90m━━━━━━━━━━━━━━━━━━━━━━━━━━━━━━━━━━━━━━━━\u001b[0m \u001b[32m17.3/17.3 MB\u001b[0m \u001b[31m50.0 MB/s\u001b[0m eta \u001b[36m0:00:00\u001b[0m\n",
            "\u001b[?25hCollecting torch\n",
            "  Downloading https://download.pytorch.org/whl/nightly/cpu/torch-2.0.0.dev20230104%2Bcpu-cp38-cp38-linux_x86_64.whl (194.3 MB)\n",
            "\u001b[2K     \u001b[90m━━━━━━━━━━━━━━━━━━━━━━━━━━━━━━━━━━━━━━━\u001b[0m \u001b[32m194.3/194.3 MB\u001b[0m \u001b[31m6.1 MB/s\u001b[0m eta \u001b[36m0:00:00\u001b[0m\n",
            "\u001b[?25hCollecting typing-extensions\n",
            "  Downloading https://download.pytorch.org/whl/nightly/typing_extensions-4.4.0-py3-none-any.whl (26 kB)\n",
            "Collecting sympy\n",
            "  Downloading https://download.pytorch.org/whl/nightly/sympy-1.11.1-py3-none-any.whl (6.5 MB)\n",
            "\u001b[2K     \u001b[90m━━━━━━━━━━━━━━━━━━━━━━━━━━━━━━━━━━━━━━━━\u001b[0m \u001b[32m6.5/6.5 MB\u001b[0m \u001b[31m62.3 MB/s\u001b[0m eta \u001b[36m0:00:00\u001b[0m\n",
            "\u001b[?25hCollecting networkx\n",
            "  Downloading https://download.pytorch.org/whl/nightly/networkx-3.0rc1-py3-none-any.whl (2.0 MB)\n",
            "\u001b[2K     \u001b[90m━━━━━━━━━━━━━━━━━━━━━━━━━━━━━━━━━━━━━━━━\u001b[0m \u001b[32m2.0/2.0 MB\u001b[0m \u001b[31m67.6 MB/s\u001b[0m eta \u001b[36m0:00:00\u001b[0m\n",
            "\u001b[?25hCollecting mpmath>=0.19\n",
            "  Downloading https://download.pytorch.org/whl/nightly/mpmath-1.2.1-py3-none-any.whl (532 kB)\n",
            "\u001b[2K     \u001b[90m━━━━━━━━━━━━━━━━━━━━━━━━━━━━━━━━━━━━━━\u001b[0m \u001b[32m532.6/532.6 KB\u001b[0m \u001b[31m37.3 MB/s\u001b[0m eta \u001b[36m0:00:00\u001b[0m\n",
            "\u001b[?25hInstalling collected packages: mpmath, typing-extensions, sympy, numpy, networkx, torch\n",
            "  Attempting uninstall: mpmath\n",
            "    Found existing installation: mpmath 1.2.1\n",
            "    Uninstalling mpmath-1.2.1:\n",
            "      Successfully uninstalled mpmath-1.2.1\n",
            "  Attempting uninstall: typing-extensions\n",
            "    Found existing installation: typing_extensions 4.4.0\n",
            "    Uninstalling typing_extensions-4.4.0:\n",
            "      Successfully uninstalled typing_extensions-4.4.0\n",
            "  Attempting uninstall: sympy\n",
            "    Found existing installation: sympy 1.7.1\n",
            "    Uninstalling sympy-1.7.1:\n",
            "      Successfully uninstalled sympy-1.7.1\n",
            "  Attempting uninstall: numpy\n",
            "    Found existing installation: numpy 1.21.6\n",
            "    Uninstalling numpy-1.21.6:\n",
            "      Successfully uninstalled numpy-1.21.6\n",
            "  Attempting uninstall: networkx\n",
            "    Found existing installation: networkx 2.8.8\n",
            "    Uninstalling networkx-2.8.8:\n",
            "      Successfully uninstalled networkx-2.8.8\n",
            "  Attempting uninstall: torch\n",
            "    Found existing installation: torch 1.13.0+cu116\n",
            "    Uninstalling torch-1.13.0+cu116:\n",
            "      Successfully uninstalled torch-1.13.0+cu116\n",
            "\u001b[31mERROR: pip's dependency resolver does not currently take into account all the packages that are installed. This behaviour is the source of the following dependency conflicts.\n",
            "torchvision 0.14.0+cu116 requires torch==1.13.0, but you have torch 2.0.0.dev20230104+cpu which is incompatible.\n",
            "torchtext 0.14.0 requires torch==1.13.0, but you have torch 2.0.0.dev20230104+cpu which is incompatible.\n",
            "torchaudio 0.13.0+cu116 requires torch==1.13.0, but you have torch 2.0.0.dev20230104+cpu which is incompatible.\n",
            "scipy 1.7.3 requires numpy<1.23.0,>=1.16.5, but you have numpy 1.24.1 which is incompatible.\n",
            "numba 0.56.4 requires numpy<1.24,>=1.18, but you have numpy 1.24.1 which is incompatible.\n",
            "fastai 2.7.10 requires torch<1.14,>=1.7, but you have torch 2.0.0.dev20230104+cpu which is incompatible.\u001b[0m\u001b[31m\n",
            "\u001b[0mSuccessfully installed mpmath-1.2.1 networkx-3.0rc1 numpy-1.24.1 sympy-1.11.1 torch-2.0.0.dev20230104+cpu typing-extensions-4.4.0\n"
          ]
        }
      ]
    },
    {
      "cell_type": "code",
      "source": [
        "import torch\n",
        "import time\n",
        "import numpy as np\n",
        "torch.__version__"
      ],
      "metadata": {
        "colab": {
          "base_uri": "https://localhost:8080/",
          "height": 35
        },
        "id": "y7yIfb30C5gJ",
        "outputId": "26224b09-5895-4ca1-aff5-272df0d37acb"
      },
      "execution_count": null,
      "outputs": [
        {
          "output_type": "execute_result",
          "data": {
            "text/plain": [
              "'2.0.0.dev20230104+cpu'"
            ],
            "application/vnd.google.colaboratory.intrinsic+json": {
              "type": "string"
            }
          },
          "metadata": {},
          "execution_count": 9
        }
      ]
    },
    {
      "cell_type": "code",
      "source": [
        "def timed(model, printer, cnt):\n",
        "    start = time.time()\n",
        "    result = action(model, cnt)\n",
        "    end = time.time()\n",
        "    time_cnt = end - start\n",
        "    #print(f\"{printer}, time: {time_cnt}\")\n",
        "    return result, time_cnt"
      ],
      "metadata": {
        "id": "L4NwFZ7HEfrc"
      },
      "execution_count": null,
      "outputs": []
    },
    {
      "cell_type": "code",
      "source": [
        "def action(model_to_use, size):\n",
        "    return model_to_use(torch.randn(size,3,64,64))"
      ],
      "metadata": {
        "id": "vpuKrH8pEtaX"
      },
      "execution_count": null,
      "outputs": []
    },
    {
      "cell_type": "code",
      "source": [
        "def testing_resnet(cnt):\n",
        "  former_times = []\n",
        "  opt_times = []\n",
        "\n",
        "  ## Warm up for models\n",
        "  for i in range(5):\n",
        "    model(torch.randn(cnt,3,64,64))\n",
        "    opt_model(torch.randn(cnt,3,64,64))\n",
        "\n",
        "  for i in range(20):\n",
        "    _, time1 = timed(model, 'former model', cnt)\n",
        "    _, time2 = timed(opt_model, 'opt model', cnt)\n",
        "    former_times.append(time1)\n",
        "    opt_times.append(time2)\n",
        "\n",
        "  time_median_default = np.median(former_times)\n",
        "  time_median_opt = np.median(opt_times)\n",
        "\n",
        "  print(\"--------------\")\n",
        "  print(f\"testing with data of ({cnt},3,64,64)\")\n",
        "  print(f\"default model: {former_times}\")\n",
        "  print(f\"opt model: {opt_times}\")\n",
        "  print(f\"default model median time: {time_median_default}\")\n",
        "  print(f\"opt model median time: {time_median_opt}\")"
      ],
      "metadata": {
        "id": "SDGYR96IGgqI"
      },
      "execution_count": null,
      "outputs": []
    },
    {
      "cell_type": "code",
      "source": [
        "## Testing official blog on https://pytorch.org/blog/Accelerating-Hugging-Face-and-TIMM-models/\n",
        "model = torch.hub.load('pytorch/vision:v0.10.0', 'resnet18', pretrained=True)\n",
        "opt_model = torch.compile(model, backend=\"inductor\")\n"
      ],
      "metadata": {
        "colab": {
          "base_uri": "https://localhost:8080/"
        },
        "id": "1bET54cVDEyM",
        "outputId": "4e00d481-c127-412a-8d5a-3bc13efd7908"
      },
      "execution_count": null,
      "outputs": [
        {
          "output_type": "stream",
          "name": "stderr",
          "text": [
            "Using cache found in /root/.cache/torch/hub/pytorch_vision_v0.10.0\n"
          ]
        }
      ]
    },
    {
      "cell_type": "code",
      "source": [
        "testing_resnet(1)"
      ],
      "metadata": {
        "colab": {
          "base_uri": "https://localhost:8080/"
        },
        "id": "nGR1AK01HAN9",
        "outputId": "9a741a39-8235-4528-bff7-df0154ad5a3f"
      },
      "execution_count": null,
      "outputs": [
        {
          "output_type": "stream",
          "name": "stdout",
          "text": [
            "--------------\n",
            "testing with data of (1,3,64,64)\n",
            "default model: [0.02948927879333496, 0.019602298736572266, 0.020087242126464844, 0.01949000358581543, 0.019661903381347656, 0.019133567810058594, 0.01948833465576172, 0.019426822662353516, 0.02006840705871582, 0.02079916000366211, 0.01999640464782715, 0.019763469696044922, 0.019701004028320312, 0.019492387771606445, 0.02159905433654785, 0.019778966903686523, 0.01974630355834961, 0.019803524017333984, 0.028051137924194336, 0.020136356353759766]\n",
            "opt model: [0.020525455474853516, 0.021697521209716797, 0.020239591598510742, 0.019987821578979492, 0.020196199417114258, 0.026981353759765625, 0.021305561065673828, 0.02009439468383789, 0.020186901092529297, 0.02058577537536621, 0.020451784133911133, 0.020475387573242188, 0.0203094482421875, 0.022670507431030273, 0.020563602447509766, 0.02080845832824707, 0.026255369186401367, 0.020615577697753906, 0.02066826820373535, 0.02069711685180664]\n",
            "default model median time: 0.019771218299865723\n",
            "opt model median time: 0.02057468891143799\n"
          ]
        }
      ]
    },
    {
      "cell_type": "code",
      "source": [
        "testing_resnet(8)"
      ],
      "metadata": {
        "colab": {
          "base_uri": "https://localhost:8080/"
        },
        "id": "zaFW646NHN6U",
        "outputId": "2b4b52b3-0c01-4739-f8bd-d045912ef702"
      },
      "execution_count": null,
      "outputs": [
        {
          "output_type": "stream",
          "name": "stdout",
          "text": [
            "--------------\n",
            "testing with data of (8,3,64,64)\n",
            "default model: [0.08827424049377441, 0.07838082313537598, 0.07783746719360352, 0.08220863342285156, 0.07701706886291504, 0.07651329040527344, 0.08879566192626953, 0.09066891670227051, 0.07753419876098633, 0.08315753936767578, 0.07839441299438477, 0.07838177680969238, 0.09460616111755371, 0.07726097106933594, 0.07758259773254395, 0.0776059627532959, 0.08032965660095215, 0.07728123664855957, 0.0919957160949707, 0.07731795310974121]\n",
            "opt model: [0.09281730651855469, 0.09242773056030273, 0.08687877655029297, 0.08690452575683594, 0.08428120613098145, 0.08582687377929688, 0.09383392333984375, 0.08673787117004395, 0.08877348899841309, 0.09256649017333984, 0.08617734909057617, 0.0857548713684082, 0.08705282211303711, 0.08640599250793457, 0.08653020858764648, 0.08825421333312988, 0.08601570129394531, 0.0884246826171875, 0.08720874786376953, 0.08631682395935059]\n",
            "default model median time: 0.07838129997253418\n",
            "opt model median time: 0.08689165115356445\n"
          ]
        }
      ]
    },
    {
      "cell_type": "code",
      "source": [
        "testing_resnet(32)"
      ],
      "metadata": {
        "colab": {
          "base_uri": "https://localhost:8080/"
        },
        "id": "Fn28vszrHqlY",
        "outputId": "e0271ab8-3271-4cee-bb61-510ab1421f7a"
      },
      "execution_count": null,
      "outputs": [
        {
          "output_type": "stream",
          "name": "stdout",
          "text": [
            "--------------\n",
            "testing with data of (32,3,64,64)\n",
            "default model: [0.28738975524902344, 0.26712894439697266, 0.28363037109375, 0.266890287399292, 0.2738931179046631, 0.270766019821167, 0.2802104949951172, 0.2796938419342041, 0.2636678218841553, 0.27518153190612793, 0.2642486095428467, 0.2693486213684082, 0.2740910053253174, 0.2608926296234131, 0.2777228355407715, 0.264068603515625, 0.2770559787750244, 0.2666945457458496, 0.26697254180908203, 0.2685215473175049]\n",
            "opt model: [0.3090989589691162, 0.2997162342071533, 0.3083796501159668, 0.3204944133758545, 0.3070545196533203, 0.32595133781433105, 0.30106377601623535, 0.3047487735748291, 0.3082156181335449, 0.2985255718231201, 0.30949831008911133, 0.2932102680206299, 0.31267762184143066, 0.32723212242126465, 0.2995328903198242, 0.30286288261413574, 0.2991921901702881, 0.30808472633361816, 0.2956275939941406, 0.3106205463409424]\n",
            "default model median time: 0.2700573205947876\n",
            "opt model median time: 0.30756962299346924\n"
          ]
        }
      ]
    },
    {
      "cell_type": "code",
      "source": [
        "testing_resnet(64)"
      ],
      "metadata": {
        "colab": {
          "base_uri": "https://localhost:8080/"
        },
        "id": "6e65JZ7qIH25",
        "outputId": "53d03822-2d30-41e7-d7c1-10acda8920ce"
      },
      "execution_count": null,
      "outputs": [
        {
          "output_type": "stream",
          "name": "stdout",
          "text": [
            "--------------\n",
            "testing with data of (64,3,64,64)\n",
            "default model: [0.5107564926147461, 0.5144939422607422, 0.5225028991699219, 0.5225200653076172, 0.5204885005950928, 0.5277564525604248, 0.5270662307739258, 0.5051097869873047, 0.5134444236755371, 0.5139286518096924, 0.5244252681732178, 0.5284123420715332, 0.8130574226379395, 0.787207841873169, 0.7534322738647461, 0.7439785003662109, 0.5122199058532715, 0.5164854526519775, 0.5449948310852051, 0.5132961273193359]\n",
            "opt model: [0.6432540416717529, 0.6189095973968506, 0.5779469013214111, 0.5825011730194092, 0.5931639671325684, 0.591303825378418, 0.5988316535949707, 0.5917549133300781, 0.5999529361724854, 0.5919389724731445, 0.6138300895690918, 0.7814607620239258, 0.9070844650268555, 0.8552951812744141, 0.8601911067962646, 0.7440423965454102, 0.5803606510162354, 0.5923323631286621, 0.5885334014892578, 0.5816426277160645]\n",
            "default model median time: 0.5225114822387695\n",
            "opt model median time: 0.5959978103637695\n"
          ]
        }
      ]
    },
    {
      "cell_type": "code",
      "source": [
        "testing_resnet(128)"
      ],
      "metadata": {
        "colab": {
          "base_uri": "https://localhost:8080/"
        },
        "id": "WYoJf-DcI3kj",
        "outputId": "aa40d9c5-87ef-4169-f1b7-5f4bf192a490"
      },
      "execution_count": null,
      "outputs": [
        {
          "output_type": "stream",
          "name": "stdout",
          "text": [
            "--------------\n",
            "testing with data of (128,3,64,64)\n",
            "default model: [1.0343470573425293, 1.013681411743164, 1.0323541164398193, 1.0147249698638916, 1.0147473812103271, 1.0282199382781982, 1.0036041736602783, 1.0262863636016846, 1.0089170932769775, 1.0134057998657227, 1.0040309429168701, 0.9981093406677246, 1.0220825672149658, 1.0054867267608643, 1.0054144859313965, 1.0176889896392822, 0.9999034404754639, 1.0126471519470215, 1.0042850971221924, 1.0185186862945557]\n",
            "opt model: [1.2614319324493408, 1.1519110202789307, 1.164170503616333, 1.160994529724121, 1.1617696285247803, 1.1672484874725342, 1.1690449714660645, 1.1563093662261963, 1.1584501266479492, 1.1625142097473145, 1.1697626113891602, 1.1544137001037598, 1.154425859451294, 1.1589620113372803, 1.1603915691375732, 1.1524877548217773, 1.171985149383545, 1.1648681163787842, 1.2019128799438477, 1.154017686843872]\n",
            "default model median time: 1.0135436058044434\n",
            "opt model median time: 1.1613820791244507\n"
          ]
        }
      ]
    }
  ]
}